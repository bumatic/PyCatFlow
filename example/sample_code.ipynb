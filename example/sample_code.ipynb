{
 "cells": [
  {
   "cell_type": "code",
   "execution_count": null,
   "metadata": {},
   "outputs": [],
   "source": [
    "import pycatflow as pcf"
   ]
  },
  {
   "cell_type": "code",
   "execution_count": null,
   "metadata": {},
   "outputs": [],
   "source": [
    "# Load and parse data from file \n",
    "fname=\"sample_data_ChatterBot_Requirements.csv\"\n",
    "data = pcf.read_file(fname, columns=\"column\", nodes=\"items\", categories=\"category\", column_order=\"column order\")"
   ]
  },
  {
   "cell_type": "code",
   "execution_count": null,
   "metadata": {},
   "outputs": [],
   "source": [
    "# Generate visualization\n",
    "\n",
    "'''\n",
    "visualize(data, spacing=50, node_size=10, width=None, height=None, minValue=1, maxValue=10, node_scaling=\"linear\",\n",
    "          color_startEnd=True, color_categories=True, nodes_color=\"gray\", start_node_color=\"green\",\n",
    "          end_node_color=\"red\", palette=None, show_labels=True, label_text=\"item\", label_font=\"sans-serif\",\n",
    "          label_color=\"black\", label_size=5, label_shortening=\"clip\", label_position=\"nodes\", line_opacity=0.5,\n",
    "          line_stroke_color=\"white\", line_stroke_width=0.5, line_stroke_thick=0.5, legend=True, sort_by=\"frequency\")\n",
    "'''\n",
    "\n",
    "viz = pcf.visualize(data, 10, width=800, minValue=2, maxValue=20, sort_by=\"frequency\", legend=True)"
   ]
  },
  {
   "cell_type": "code",
   "execution_count": null,
   "metadata": {},
   "outputs": [],
   "source": [
    "#show visualization\n",
    "viz"
   ]
  },
  {
   "cell_type": "code",
   "execution_count": null,
   "metadata": {},
   "outputs": [],
   "source": [
    "#save visualization to files\n",
    "viz.savePng('sample_viz.png')\n",
    "viz.saveSvg('sample_viz.svg')"
   ]
  }
 ],
 "metadata": {
  "kernelspec": {
   "display_name": "Python 3",
   "language": "python",
   "name": "python3"
  },
  "language_info": {
   "codemirror_mode": {
    "name": "ipython",
    "version": 3
   },
   "file_extension": ".py",
   "mimetype": "text/x-python",
   "name": "python",
   "nbconvert_exporter": "python",
   "pygments_lexer": "ipython3",
   "version": "3.8.8"
  }
 },
 "nbformat": 4,
 "nbformat_minor": 4
}
