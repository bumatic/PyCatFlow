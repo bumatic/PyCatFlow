{
 "cells": [
  {
   "cell_type": "code",
   "execution_count": null,
   "metadata": {},
   "outputs": [],
   "source": [
    "import pycatflow as pcf"
   ]
  },
  {
   "cell_type": "code",
   "execution_count": null,
   "metadata": {},
   "outputs": [],
   "source": [
    "# Load and parse data from file \n",
    "fname=\"sample_data_ChatterBot_Requirements.csv\"\n",
    "data = pcf.read_file(fname, columns=\"column\", nodes=\"items\", categories=\"category\", column_order=\"column order\")"
   ]
  },
  {
   "cell_type": "code",
   "execution_count": null,
   "metadata": {},
   "outputs": [],
   "source": [
    "# Generate visualization\n",
    "\n",
    "'''\n",
    "visualize(data, spacing=50, node_size=10, width=None, height=None, minValue=1, maxValue=10, node_scaling=\"linear\",\n",
    "          connection_type=\"semi-curved\", color_startEnd=True, color_categories=True, nodes_color=\"gray\",\n",
    "          start_node_color=\"green\", end_node_color=\"red\", palette=None, show_labels=True,\n",
    "          label_text=\"item\", label_font=\"sans-serif\", label_color=\"black\", label_size=5,\n",
    "          label_shortening=\"clip\", label_position=\"nodes\", line_opacity=0.5, line_stroke_color=\"white\",\n",
    "          line_stroke_width=0.5, line_stroke_thick=0.5, legend=True, sort_by=\"frequency\")\n",
    "'''\n",
    "\n",
    "viz = pcf.visualize(data, spacing=20, width=800, maxValue=20, minValue=2)\n",
    "\n",
    "#save visualization to files\n",
    "viz.savePng('sample_viz.png')\n",
    "viz.saveSvg('sample_viz.svg')\n",
    "\n",
    "#show visualization\n",
    "viz"
   ]
  },
  {
   "cell_type": "code",
   "execution_count": null,
   "metadata": {},
   "outputs": [],
   "source": [
    "# Another option is to visualize the graph with curved connections.\n",
    "# The implementation of this connection type draws on https://github.com/bernorieder/RankFlow\n",
    "\n",
    "viz = pcf.visualize(data, spacing=20, width=800, maxValue=20, minValue=2, connection_type='curved')\n",
    "viz"
   ]
  },
  {
   "cell_type": "code",
   "execution_count": null,
   "metadata": {},
   "outputs": [],
   "source": [
    "# The third option are straight connections between nodes\n",
    "viz = pcf.visualize(data, spacing=20, width=800, maxValue=20, minValue=2, connection_type='straight')\n",
    "\n",
    "# show visualization\n",
    "viz"
   ]
  },
  {
   "cell_type": "code",
   "execution_count": null,
   "metadata": {},
   "outputs": [],
   "source": []
  }
 ],
 "metadata": {
  "kernelspec": {
   "display_name": "Python 3",
   "language": "python",
   "name": "python3"
  },
  "language_info": {
   "codemirror_mode": {
    "name": "ipython",
    "version": 3
   },
   "file_extension": ".py",
   "mimetype": "text/x-python",
   "name": "python",
   "nbconvert_exporter": "python",
   "pygments_lexer": "ipython3",
   "version": "3.8.8"
  }
 },
 "nbformat": 4,
 "nbformat_minor": 4
}
